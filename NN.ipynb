{
 "cells": [
  {
   "cell_type": "markdown",
   "metadata": {},
   "source": [
    "# Neurnal networks introduction \n",
    "\n",
    "## Neuron \n",
    "\n"
   ]
  },
  {
   "cell_type": "markdown",
   "metadata": {},
   "source": [
    "A neuron is a building block of an NN arhitecture. It receives inputs, multiplies them by weights and gives out an output. "
   ]
  },
  {
   "cell_type": "code",
   "execution_count": 1,
   "metadata": {},
   "outputs": [],
   "source": [
    "def neuron(x: float, w: float) -> float: \n",
    "    \"\"\"\n",
    "    A simple neuron\n",
    "    \"\"\"\n",
    "    return x * w "
   ]
  },
  {
   "cell_type": "code",
   "execution_count": null,
   "metadata": {},
   "outputs": [],
   "source": []
  }
 ],
 "metadata": {
  "kernelspec": {
   "display_name": "Python 3.10.4 ('ml_env')",
   "language": "python",
   "name": "python3"
  },
  "language_info": {
   "codemirror_mode": {
    "name": "ipython",
    "version": 3
   },
   "file_extension": ".py",
   "mimetype": "text/x-python",
   "name": "python",
   "nbconvert_exporter": "python",
   "pygments_lexer": "ipython3",
   "version": "3.10.4"
  },
  "orig_nbformat": 4,
  "vscode": {
   "interpreter": {
    "hash": "f65f76ac689cc421e2eec6cf9f10241b1d1a8e7889ddd72cfb772595b979c5c4"
   }
  }
 },
 "nbformat": 4,
 "nbformat_minor": 2
}
